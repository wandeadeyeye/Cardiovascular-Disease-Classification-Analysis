{
 "cells": [
  {
   "cell_type": "markdown",
   "id": "universal-villa",
   "metadata": {},
   "source": [
    "# Library Import"
   ]
  },
  {
   "cell_type": "code",
   "execution_count": 69,
   "id": "mounted-universe",
   "metadata": {},
   "outputs": [],
   "source": [
    "# import the necessary libraries\n",
    "import pandas as pd\n",
    "import numpy as np\n",
    "import seaborn as sns\n",
    "import matplotlib.pyplot as plt\n",
    "import tensorflow as tf\n",
    "\n",
    "from sklearn.preprocessing import StandardScaler\n",
    "from sklearn.model_selection import train_test_split\n",
    "from sklearn.metrics import classification_report\n",
    "from sklearn.metrics import confusion_matrix, classification_report\n",
    "\n",
    "from xgboost import XGBClassifier\n",
    "\n",
    "sns.set()"
   ]
  },
  {
   "cell_type": "markdown",
   "id": "formal-birth",
   "metadata": {},
   "source": [
    "# Dataset\n",
    "[Dataset Link: Source From Kaggle](https://www.kaggle.com/sulianova/cardiovascular-disease-dataset)\n",
    "\n",
    "# Report\n",
    "[Report Link: drive](https://drive.google.com/file/d/1GaNdkd0S8xbehZxR7uR7ovs0gZxfzqq4/view?usp=sharing)"
   ]
  },
  {
   "cell_type": "code",
   "execution_count": 70,
   "id": "communist-telescope",
   "metadata": {},
   "outputs": [],
   "source": [
    "dataset = pd.read_csv('C:/github/cardio_train.csv',delimiter=';',index_col='id')"
   ]
  },
  {
   "cell_type": "code",
   "execution_count": 71,
   "id": "placed-entertainment",
   "metadata": {},
   "outputs": [
    {
     "data": {
      "text/html": [
       "<div>\n",
       "<style scoped>\n",
       "    .dataframe tbody tr th:only-of-type {\n",
       "        vertical-align: middle;\n",
       "    }\n",
       "\n",
       "    .dataframe tbody tr th {\n",
       "        vertical-align: top;\n",
       "    }\n",
       "\n",
       "    .dataframe thead th {\n",
       "        text-align: right;\n",
       "    }\n",
       "</style>\n",
       "<table border=\"1\" class=\"dataframe\">\n",
       "  <thead>\n",
       "    <tr style=\"text-align: right;\">\n",
       "      <th></th>\n",
       "      <th>age</th>\n",
       "      <th>gender</th>\n",
       "      <th>height</th>\n",
       "      <th>weight</th>\n",
       "      <th>ap_hi</th>\n",
       "      <th>ap_lo</th>\n",
       "      <th>cholesterol</th>\n",
       "      <th>gluc</th>\n",
       "      <th>smoke</th>\n",
       "      <th>alco</th>\n",
       "      <th>active</th>\n",
       "      <th>cardio</th>\n",
       "    </tr>\n",
       "    <tr>\n",
       "      <th>id</th>\n",
       "      <th></th>\n",
       "      <th></th>\n",
       "      <th></th>\n",
       "      <th></th>\n",
       "      <th></th>\n",
       "      <th></th>\n",
       "      <th></th>\n",
       "      <th></th>\n",
       "      <th></th>\n",
       "      <th></th>\n",
       "      <th></th>\n",
       "      <th></th>\n",
       "    </tr>\n",
       "  </thead>\n",
       "  <tbody>\n",
       "    <tr>\n",
       "      <th>0</th>\n",
       "      <td>18393</td>\n",
       "      <td>2</td>\n",
       "      <td>168</td>\n",
       "      <td>62.0</td>\n",
       "      <td>110</td>\n",
       "      <td>80</td>\n",
       "      <td>1</td>\n",
       "      <td>1</td>\n",
       "      <td>0</td>\n",
       "      <td>0</td>\n",
       "      <td>1</td>\n",
       "      <td>0</td>\n",
       "    </tr>\n",
       "    <tr>\n",
       "      <th>1</th>\n",
       "      <td>20228</td>\n",
       "      <td>1</td>\n",
       "      <td>156</td>\n",
       "      <td>85.0</td>\n",
       "      <td>140</td>\n",
       "      <td>90</td>\n",
       "      <td>3</td>\n",
       "      <td>1</td>\n",
       "      <td>0</td>\n",
       "      <td>0</td>\n",
       "      <td>1</td>\n",
       "      <td>1</td>\n",
       "    </tr>\n",
       "    <tr>\n",
       "      <th>2</th>\n",
       "      <td>18857</td>\n",
       "      <td>1</td>\n",
       "      <td>165</td>\n",
       "      <td>64.0</td>\n",
       "      <td>130</td>\n",
       "      <td>70</td>\n",
       "      <td>3</td>\n",
       "      <td>1</td>\n",
       "      <td>0</td>\n",
       "      <td>0</td>\n",
       "      <td>0</td>\n",
       "      <td>1</td>\n",
       "    </tr>\n",
       "    <tr>\n",
       "      <th>3</th>\n",
       "      <td>17623</td>\n",
       "      <td>2</td>\n",
       "      <td>169</td>\n",
       "      <td>82.0</td>\n",
       "      <td>150</td>\n",
       "      <td>100</td>\n",
       "      <td>1</td>\n",
       "      <td>1</td>\n",
       "      <td>0</td>\n",
       "      <td>0</td>\n",
       "      <td>1</td>\n",
       "      <td>1</td>\n",
       "    </tr>\n",
       "    <tr>\n",
       "      <th>4</th>\n",
       "      <td>17474</td>\n",
       "      <td>1</td>\n",
       "      <td>156</td>\n",
       "      <td>56.0</td>\n",
       "      <td>100</td>\n",
       "      <td>60</td>\n",
       "      <td>1</td>\n",
       "      <td>1</td>\n",
       "      <td>0</td>\n",
       "      <td>0</td>\n",
       "      <td>0</td>\n",
       "      <td>0</td>\n",
       "    </tr>\n",
       "  </tbody>\n",
       "</table>\n",
       "</div>"
      ],
      "text/plain": [
       "      age  gender  height  weight  ap_hi  ap_lo  cholesterol  gluc  smoke  \\\n",
       "id                                                                          \n",
       "0   18393       2     168    62.0    110     80            1     1      0   \n",
       "1   20228       1     156    85.0    140     90            3     1      0   \n",
       "2   18857       1     165    64.0    130     70            3     1      0   \n",
       "3   17623       2     169    82.0    150    100            1     1      0   \n",
       "4   17474       1     156    56.0    100     60            1     1      0   \n",
       "\n",
       "    alco  active  cardio  \n",
       "id                        \n",
       "0      0       1       0  \n",
       "1      0       1       1  \n",
       "2      0       0       1  \n",
       "3      0       1       1  \n",
       "4      0       0       0  "
      ]
     },
     "execution_count": 71,
     "metadata": {},
     "output_type": "execute_result"
    }
   ],
   "source": [
    "dataset.head()"
   ]
  },
  {
   "cell_type": "code",
   "execution_count": 72,
   "id": "brutal-whale",
   "metadata": {},
   "outputs": [],
   "source": [
    "# convert age from days to years\n",
    "dataset['age'] = dataset['age']/365"
   ]
  },
  {
   "cell_type": "code",
   "execution_count": 73,
   "id": "hourly-palestinian",
   "metadata": {},
   "outputs": [
    {
     "data": {
      "text/html": [
       "<div>\n",
       "<style scoped>\n",
       "    .dataframe tbody tr th:only-of-type {\n",
       "        vertical-align: middle;\n",
       "    }\n",
       "\n",
       "    .dataframe tbody tr th {\n",
       "        vertical-align: top;\n",
       "    }\n",
       "\n",
       "    .dataframe thead th {\n",
       "        text-align: right;\n",
       "    }\n",
       "</style>\n",
       "<table border=\"1\" class=\"dataframe\">\n",
       "  <thead>\n",
       "    <tr style=\"text-align: right;\">\n",
       "      <th></th>\n",
       "      <th>age</th>\n",
       "      <th>gender</th>\n",
       "      <th>height</th>\n",
       "      <th>weight</th>\n",
       "      <th>ap_hi</th>\n",
       "      <th>ap_lo</th>\n",
       "      <th>cholesterol</th>\n",
       "      <th>gluc</th>\n",
       "      <th>smoke</th>\n",
       "      <th>alco</th>\n",
       "      <th>active</th>\n",
       "      <th>cardio</th>\n",
       "    </tr>\n",
       "    <tr>\n",
       "      <th>id</th>\n",
       "      <th></th>\n",
       "      <th></th>\n",
       "      <th></th>\n",
       "      <th></th>\n",
       "      <th></th>\n",
       "      <th></th>\n",
       "      <th></th>\n",
       "      <th></th>\n",
       "      <th></th>\n",
       "      <th></th>\n",
       "      <th></th>\n",
       "      <th></th>\n",
       "    </tr>\n",
       "  </thead>\n",
       "  <tbody>\n",
       "    <tr>\n",
       "      <th>0</th>\n",
       "      <td>50.391781</td>\n",
       "      <td>2</td>\n",
       "      <td>168</td>\n",
       "      <td>62.0</td>\n",
       "      <td>110</td>\n",
       "      <td>80</td>\n",
       "      <td>1</td>\n",
       "      <td>1</td>\n",
       "      <td>0</td>\n",
       "      <td>0</td>\n",
       "      <td>1</td>\n",
       "      <td>0</td>\n",
       "    </tr>\n",
       "    <tr>\n",
       "      <th>1</th>\n",
       "      <td>55.419178</td>\n",
       "      <td>1</td>\n",
       "      <td>156</td>\n",
       "      <td>85.0</td>\n",
       "      <td>140</td>\n",
       "      <td>90</td>\n",
       "      <td>3</td>\n",
       "      <td>1</td>\n",
       "      <td>0</td>\n",
       "      <td>0</td>\n",
       "      <td>1</td>\n",
       "      <td>1</td>\n",
       "    </tr>\n",
       "    <tr>\n",
       "      <th>2</th>\n",
       "      <td>51.663014</td>\n",
       "      <td>1</td>\n",
       "      <td>165</td>\n",
       "      <td>64.0</td>\n",
       "      <td>130</td>\n",
       "      <td>70</td>\n",
       "      <td>3</td>\n",
       "      <td>1</td>\n",
       "      <td>0</td>\n",
       "      <td>0</td>\n",
       "      <td>0</td>\n",
       "      <td>1</td>\n",
       "    </tr>\n",
       "    <tr>\n",
       "      <th>3</th>\n",
       "      <td>48.282192</td>\n",
       "      <td>2</td>\n",
       "      <td>169</td>\n",
       "      <td>82.0</td>\n",
       "      <td>150</td>\n",
       "      <td>100</td>\n",
       "      <td>1</td>\n",
       "      <td>1</td>\n",
       "      <td>0</td>\n",
       "      <td>0</td>\n",
       "      <td>1</td>\n",
       "      <td>1</td>\n",
       "    </tr>\n",
       "    <tr>\n",
       "      <th>4</th>\n",
       "      <td>47.873973</td>\n",
       "      <td>1</td>\n",
       "      <td>156</td>\n",
       "      <td>56.0</td>\n",
       "      <td>100</td>\n",
       "      <td>60</td>\n",
       "      <td>1</td>\n",
       "      <td>1</td>\n",
       "      <td>0</td>\n",
       "      <td>0</td>\n",
       "      <td>0</td>\n",
       "      <td>0</td>\n",
       "    </tr>\n",
       "  </tbody>\n",
       "</table>\n",
       "</div>"
      ],
      "text/plain": [
       "          age  gender  height  weight  ap_hi  ap_lo  cholesterol  gluc  smoke  \\\n",
       "id                                                                              \n",
       "0   50.391781       2     168    62.0    110     80            1     1      0   \n",
       "1   55.419178       1     156    85.0    140     90            3     1      0   \n",
       "2   51.663014       1     165    64.0    130     70            3     1      0   \n",
       "3   48.282192       2     169    82.0    150    100            1     1      0   \n",
       "4   47.873973       1     156    56.0    100     60            1     1      0   \n",
       "\n",
       "    alco  active  cardio  \n",
       "id                        \n",
       "0      0       1       0  \n",
       "1      0       1       1  \n",
       "2      0       0       1  \n",
       "3      0       1       1  \n",
       "4      0       0       0  "
      ]
     },
     "execution_count": 73,
     "metadata": {},
     "output_type": "execute_result"
    }
   ],
   "source": [
    "dataset.head()"
   ]
  },
  {
   "cell_type": "markdown",
   "id": "valued-excerpt",
   "metadata": {},
   "source": [
    "## Cleaning data - check for any missing values"
   ]
  },
  {
   "cell_type": "code",
   "execution_count": 74,
   "id": "infrared-archive",
   "metadata": {},
   "outputs": [
    {
     "data": {
      "text/plain": [
       "age            0\n",
       "gender         0\n",
       "height         0\n",
       "weight         0\n",
       "ap_hi          0\n",
       "ap_lo          0\n",
       "cholesterol    0\n",
       "gluc           0\n",
       "smoke          0\n",
       "alco           0\n",
       "active         0\n",
       "cardio         0\n",
       "dtype: int64"
      ]
     },
     "execution_count": 74,
     "metadata": {},
     "output_type": "execute_result"
    }
   ],
   "source": [
    "# checking the null values\n",
    "dataset.isnull().sum()"
   ]
  },
  {
   "cell_type": "code",
   "execution_count": 75,
   "id": "mighty-cardiff",
   "metadata": {},
   "outputs": [
    {
     "name": "stdout",
     "output_type": "stream",
     "text": [
      "<class 'pandas.core.frame.DataFrame'>\n",
      "Int64Index: 70000 entries, 0 to 99999\n",
      "Data columns (total 12 columns):\n",
      " #   Column       Non-Null Count  Dtype  \n",
      "---  ------       --------------  -----  \n",
      " 0   age          70000 non-null  float64\n",
      " 1   gender       70000 non-null  int64  \n",
      " 2   height       70000 non-null  int64  \n",
      " 3   weight       70000 non-null  float64\n",
      " 4   ap_hi        70000 non-null  int64  \n",
      " 5   ap_lo        70000 non-null  int64  \n",
      " 6   cholesterol  70000 non-null  int64  \n",
      " 7   gluc         70000 non-null  int64  \n",
      " 8   smoke        70000 non-null  int64  \n",
      " 9   alco         70000 non-null  int64  \n",
      " 10  active       70000 non-null  int64  \n",
      " 11  cardio       70000 non-null  int64  \n",
      "dtypes: float64(2), int64(10)\n",
      "memory usage: 6.9 MB\n"
     ]
    }
   ],
   "source": [
    "# Checking the dataframe information\n",
    "dataset.info()"
   ]
  },
  {
   "cell_type": "code",
   "execution_count": 76,
   "id": "ongoing-termination",
   "metadata": {},
   "outputs": [
    {
     "data": {
      "text/html": [
       "<div>\n",
       "<style scoped>\n",
       "    .dataframe tbody tr th:only-of-type {\n",
       "        vertical-align: middle;\n",
       "    }\n",
       "\n",
       "    .dataframe tbody tr th {\n",
       "        vertical-align: top;\n",
       "    }\n",
       "\n",
       "    .dataframe thead th {\n",
       "        text-align: right;\n",
       "    }\n",
       "</style>\n",
       "<table border=\"1\" class=\"dataframe\">\n",
       "  <thead>\n",
       "    <tr style=\"text-align: right;\">\n",
       "      <th></th>\n",
       "      <th>age</th>\n",
       "      <th>gender</th>\n",
       "      <th>height</th>\n",
       "      <th>weight</th>\n",
       "      <th>ap_hi</th>\n",
       "      <th>ap_lo</th>\n",
       "      <th>cholesterol</th>\n",
       "      <th>gluc</th>\n",
       "      <th>smoke</th>\n",
       "      <th>alco</th>\n",
       "      <th>active</th>\n",
       "      <th>cardio</th>\n",
       "    </tr>\n",
       "  </thead>\n",
       "  <tbody>\n",
       "    <tr>\n",
       "      <th>count</th>\n",
       "      <td>70000.000000</td>\n",
       "      <td>70000.000000</td>\n",
       "      <td>70000.000000</td>\n",
       "      <td>70000.000000</td>\n",
       "      <td>70000.000000</td>\n",
       "      <td>70000.000000</td>\n",
       "      <td>70000.000000</td>\n",
       "      <td>70000.000000</td>\n",
       "      <td>70000.000000</td>\n",
       "      <td>70000.000000</td>\n",
       "      <td>70000.000000</td>\n",
       "      <td>70000.000000</td>\n",
       "    </tr>\n",
       "    <tr>\n",
       "      <th>mean</th>\n",
       "      <td>53.339358</td>\n",
       "      <td>1.349571</td>\n",
       "      <td>164.359229</td>\n",
       "      <td>74.205690</td>\n",
       "      <td>128.817286</td>\n",
       "      <td>96.630414</td>\n",
       "      <td>1.366871</td>\n",
       "      <td>1.226457</td>\n",
       "      <td>0.088129</td>\n",
       "      <td>0.053771</td>\n",
       "      <td>0.803729</td>\n",
       "      <td>0.499700</td>\n",
       "    </tr>\n",
       "    <tr>\n",
       "      <th>std</th>\n",
       "      <td>6.759594</td>\n",
       "      <td>0.476838</td>\n",
       "      <td>8.210126</td>\n",
       "      <td>14.395757</td>\n",
       "      <td>154.011419</td>\n",
       "      <td>188.472530</td>\n",
       "      <td>0.680250</td>\n",
       "      <td>0.572270</td>\n",
       "      <td>0.283484</td>\n",
       "      <td>0.225568</td>\n",
       "      <td>0.397179</td>\n",
       "      <td>0.500003</td>\n",
       "    </tr>\n",
       "    <tr>\n",
       "      <th>min</th>\n",
       "      <td>29.583562</td>\n",
       "      <td>1.000000</td>\n",
       "      <td>55.000000</td>\n",
       "      <td>10.000000</td>\n",
       "      <td>-150.000000</td>\n",
       "      <td>-70.000000</td>\n",
       "      <td>1.000000</td>\n",
       "      <td>1.000000</td>\n",
       "      <td>0.000000</td>\n",
       "      <td>0.000000</td>\n",
       "      <td>0.000000</td>\n",
       "      <td>0.000000</td>\n",
       "    </tr>\n",
       "    <tr>\n",
       "      <th>25%</th>\n",
       "      <td>48.394521</td>\n",
       "      <td>1.000000</td>\n",
       "      <td>159.000000</td>\n",
       "      <td>65.000000</td>\n",
       "      <td>120.000000</td>\n",
       "      <td>80.000000</td>\n",
       "      <td>1.000000</td>\n",
       "      <td>1.000000</td>\n",
       "      <td>0.000000</td>\n",
       "      <td>0.000000</td>\n",
       "      <td>1.000000</td>\n",
       "      <td>0.000000</td>\n",
       "    </tr>\n",
       "    <tr>\n",
       "      <th>50%</th>\n",
       "      <td>53.980822</td>\n",
       "      <td>1.000000</td>\n",
       "      <td>165.000000</td>\n",
       "      <td>72.000000</td>\n",
       "      <td>120.000000</td>\n",
       "      <td>80.000000</td>\n",
       "      <td>1.000000</td>\n",
       "      <td>1.000000</td>\n",
       "      <td>0.000000</td>\n",
       "      <td>0.000000</td>\n",
       "      <td>1.000000</td>\n",
       "      <td>0.000000</td>\n",
       "    </tr>\n",
       "    <tr>\n",
       "      <th>75%</th>\n",
       "      <td>58.430137</td>\n",
       "      <td>2.000000</td>\n",
       "      <td>170.000000</td>\n",
       "      <td>82.000000</td>\n",
       "      <td>140.000000</td>\n",
       "      <td>90.000000</td>\n",
       "      <td>2.000000</td>\n",
       "      <td>1.000000</td>\n",
       "      <td>0.000000</td>\n",
       "      <td>0.000000</td>\n",
       "      <td>1.000000</td>\n",
       "      <td>1.000000</td>\n",
       "    </tr>\n",
       "    <tr>\n",
       "      <th>max</th>\n",
       "      <td>64.967123</td>\n",
       "      <td>2.000000</td>\n",
       "      <td>250.000000</td>\n",
       "      <td>200.000000</td>\n",
       "      <td>16020.000000</td>\n",
       "      <td>11000.000000</td>\n",
       "      <td>3.000000</td>\n",
       "      <td>3.000000</td>\n",
       "      <td>1.000000</td>\n",
       "      <td>1.000000</td>\n",
       "      <td>1.000000</td>\n",
       "      <td>1.000000</td>\n",
       "    </tr>\n",
       "  </tbody>\n",
       "</table>\n",
       "</div>"
      ],
      "text/plain": [
       "                age        gender        height        weight         ap_hi  \\\n",
       "count  70000.000000  70000.000000  70000.000000  70000.000000  70000.000000   \n",
       "mean      53.339358      1.349571    164.359229     74.205690    128.817286   \n",
       "std        6.759594      0.476838      8.210126     14.395757    154.011419   \n",
       "min       29.583562      1.000000     55.000000     10.000000   -150.000000   \n",
       "25%       48.394521      1.000000    159.000000     65.000000    120.000000   \n",
       "50%       53.980822      1.000000    165.000000     72.000000    120.000000   \n",
       "75%       58.430137      2.000000    170.000000     82.000000    140.000000   \n",
       "max       64.967123      2.000000    250.000000    200.000000  16020.000000   \n",
       "\n",
       "              ap_lo   cholesterol          gluc         smoke          alco  \\\n",
       "count  70000.000000  70000.000000  70000.000000  70000.000000  70000.000000   \n",
       "mean      96.630414      1.366871      1.226457      0.088129      0.053771   \n",
       "std      188.472530      0.680250      0.572270      0.283484      0.225568   \n",
       "min      -70.000000      1.000000      1.000000      0.000000      0.000000   \n",
       "25%       80.000000      1.000000      1.000000      0.000000      0.000000   \n",
       "50%       80.000000      1.000000      1.000000      0.000000      0.000000   \n",
       "75%       90.000000      2.000000      1.000000      0.000000      0.000000   \n",
       "max    11000.000000      3.000000      3.000000      1.000000      1.000000   \n",
       "\n",
       "             active        cardio  \n",
       "count  70000.000000  70000.000000  \n",
       "mean       0.803729      0.499700  \n",
       "std        0.397179      0.500003  \n",
       "min        0.000000      0.000000  \n",
       "25%        1.000000      0.000000  \n",
       "50%        1.000000      0.000000  \n",
       "75%        1.000000      1.000000  \n",
       "max        1.000000      1.000000  "
      ]
     },
     "execution_count": 76,
     "metadata": {},
     "output_type": "execute_result"
    }
   ],
   "source": [
    "# Statistical summary of the dataset\n",
    "dataset.describe()"
   ]
  },
  {
   "cell_type": "markdown",
   "id": "presidential-default",
   "metadata": {},
   "source": [
    "## Visualising Our Dataset - Histograms ..."
   ]
  },
  {
   "cell_type": "code",
   "execution_count": 9,
   "id": "minus-receiver",
   "metadata": {},
   "outputs": [
    {
     "data": {
      "image/png": "[encoded data removed]",
      "text/plain": [
       "<Figure size 1440x1440 with 12 Axes>"
      ]
     },
     "metadata": {},
     "output_type": "display_data"
    }
   ],
   "source": [
    "dataset.hist(bins = 30, figsize = (20,20), color = 'g')\n",
    "plt.show()"
   ]
  },
  {
   "cell_type": "markdown",
   "id": "magnetic-ability",
   "metadata": {},
   "source": [
    "## Correlation\n",
    "\n",
    "## $$ \\rho _{XY} = corr(X,Y)$$\n",
    "## $$ -1.0 \\leq \\rho _{XY} \\leq +1.0 $$"
   ]
  },
  {
   "cell_type": "code",
   "execution_count": 10,
   "id": "apparent-specific",
   "metadata": {},
   "outputs": [
    {
     "data": {
      "text/html": [
       "<div>\n",
       "<style scoped>\n",
       "    .dataframe tbody tr th:only-of-type {\n",
       "        vertical-align: middle;\n",
       "    }\n",
       "\n",
       "    .dataframe tbody tr th {\n",
       "        vertical-align: top;\n",
       "    }\n",
       "\n",
       "    .dataframe thead th {\n",
       "        text-align: right;\n",
       "    }\n",
       "</style>\n",
       "<table border=\"1\" class=\"dataframe\">\n",
       "  <thead>\n",
       "    <tr style=\"text-align: right;\">\n",
       "      <th></th>\n",
       "      <th>age</th>\n",
       "      <th>gender</th>\n",
       "      <th>height</th>\n",
       "      <th>weight</th>\n",
       "      <th>ap_hi</th>\n",
       "      <th>ap_lo</th>\n",
       "      <th>cholesterol</th>\n",
       "      <th>gluc</th>\n",
       "      <th>smoke</th>\n",
       "      <th>alco</th>\n",
       "      <th>active</th>\n",
       "      <th>cardio</th>\n",
       "    </tr>\n",
       "  </thead>\n",
       "  <tbody>\n",
       "    <tr>\n",
       "      <th>age</th>\n",
       "      <td>1.000000</td>\n",
       "      <td>-0.022811</td>\n",
       "      <td>-0.081515</td>\n",
       "      <td>0.053684</td>\n",
       "      <td>0.020764</td>\n",
       "      <td>0.017647</td>\n",
       "      <td>0.154424</td>\n",
       "      <td>0.098703</td>\n",
       "      <td>-0.047633</td>\n",
       "      <td>-0.029723</td>\n",
       "      <td>-0.009927</td>\n",
       "      <td>0.238159</td>\n",
       "    </tr>\n",
       "    <tr>\n",
       "      <th>gender</th>\n",
       "      <td>-0.022811</td>\n",
       "      <td>1.000000</td>\n",
       "      <td>0.499033</td>\n",
       "      <td>0.155406</td>\n",
       "      <td>0.006005</td>\n",
       "      <td>0.015254</td>\n",
       "      <td>-0.035821</td>\n",
       "      <td>-0.020491</td>\n",
       "      <td>0.338135</td>\n",
       "      <td>0.170966</td>\n",
       "      <td>0.005866</td>\n",
       "      <td>0.008109</td>\n",
       "    </tr>\n",
       "    <tr>\n",
       "      <th>height</th>\n",
       "      <td>-0.081515</td>\n",
       "      <td>0.499033</td>\n",
       "      <td>1.000000</td>\n",
       "      <td>0.290968</td>\n",
       "      <td>0.005488</td>\n",
       "      <td>0.006150</td>\n",
       "      <td>-0.050226</td>\n",
       "      <td>-0.018595</td>\n",
       "      <td>0.187989</td>\n",
       "      <td>0.094419</td>\n",
       "      <td>-0.006570</td>\n",
       "      <td>-0.010821</td>\n",
       "    </tr>\n",
       "    <tr>\n",
       "      <th>weight</th>\n",
       "      <td>0.053684</td>\n",
       "      <td>0.155406</td>\n",
       "      <td>0.290968</td>\n",
       "      <td>1.000000</td>\n",
       "      <td>0.030702</td>\n",
       "      <td>0.043710</td>\n",
       "      <td>0.141768</td>\n",
       "      <td>0.106857</td>\n",
       "      <td>0.067780</td>\n",
       "      <td>0.067113</td>\n",
       "      <td>-0.016867</td>\n",
       "      <td>0.181660</td>\n",
       "    </tr>\n",
       "    <tr>\n",
       "      <th>ap_hi</th>\n",
       "      <td>0.020764</td>\n",
       "      <td>0.006005</td>\n",
       "      <td>0.005488</td>\n",
       "      <td>0.030702</td>\n",
       "      <td>1.000000</td>\n",
       "      <td>0.016086</td>\n",
       "      <td>0.023778</td>\n",
       "      <td>0.011841</td>\n",
       "      <td>-0.000922</td>\n",
       "      <td>0.001408</td>\n",
       "      <td>-0.000033</td>\n",
       "      <td>0.054475</td>\n",
       "    </tr>\n",
       "    <tr>\n",
       "      <th>ap_lo</th>\n",
       "      <td>0.017647</td>\n",
       "      <td>0.015254</td>\n",
       "      <td>0.006150</td>\n",
       "      <td>0.043710</td>\n",
       "      <td>0.016086</td>\n",
       "      <td>1.000000</td>\n",
       "      <td>0.024019</td>\n",
       "      <td>0.010806</td>\n",
       "      <td>0.005186</td>\n",
       "      <td>0.010601</td>\n",
       "      <td>0.004780</td>\n",
       "      <td>0.065719</td>\n",
       "    </tr>\n",
       "    <tr>\n",
       "      <th>cholesterol</th>\n",
       "      <td>0.154424</td>\n",
       "      <td>-0.035821</td>\n",
       "      <td>-0.050226</td>\n",
       "      <td>0.141768</td>\n",
       "      <td>0.023778</td>\n",
       "      <td>0.024019</td>\n",
       "      <td>1.000000</td>\n",
       "      <td>0.451578</td>\n",
       "      <td>0.010354</td>\n",
       "      <td>0.035760</td>\n",
       "      <td>0.009911</td>\n",
       "      <td>0.221147</td>\n",
       "    </tr>\n",
       "    <tr>\n",
       "      <th>gluc</th>\n",
       "      <td>0.098703</td>\n",
       "      <td>-0.020491</td>\n",
       "      <td>-0.018595</td>\n",
       "      <td>0.106857</td>\n",
       "      <td>0.011841</td>\n",
       "      <td>0.010806</td>\n",
       "      <td>0.451578</td>\n",
       "      <td>1.000000</td>\n",
       "      <td>-0.004756</td>\n",
       "      <td>0.011246</td>\n",
       "      <td>-0.006770</td>\n",
       "      <td>0.089307</td>\n",
       "    </tr>\n",
       "    <tr>\n",
       "      <th>smoke</th>\n",
       "      <td>-0.047633</td>\n",
       "      <td>0.338135</td>\n",
       "      <td>0.187989</td>\n",
       "      <td>0.067780</td>\n",
       "      <td>-0.000922</td>\n",
       "      <td>0.005186</td>\n",
       "      <td>0.010354</td>\n",
       "      <td>-0.004756</td>\n",
       "      <td>1.000000</td>\n",
       "      <td>0.340094</td>\n",
       "      <td>0.025858</td>\n",
       "      <td>-0.015486</td>\n",
       "    </tr>\n",
       "    <tr>\n",
       "      <th>alco</th>\n",
       "      <td>-0.029723</td>\n",
       "      <td>0.170966</td>\n",
       "      <td>0.094419</td>\n",
       "      <td>0.067113</td>\n",
       "      <td>0.001408</td>\n",
       "      <td>0.010601</td>\n",
       "      <td>0.035760</td>\n",
       "      <td>0.011246</td>\n",
       "      <td>0.340094</td>\n",
       "      <td>1.000000</td>\n",
       "      <td>0.025476</td>\n",
       "      <td>-0.007330</td>\n",
       "    </tr>\n",
       "    <tr>\n",
       "      <th>active</th>\n",
       "      <td>-0.009927</td>\n",
       "      <td>0.005866</td>\n",
       "      <td>-0.006570</td>\n",
       "      <td>-0.016867</td>\n",
       "      <td>-0.000033</td>\n",
       "      <td>0.004780</td>\n",
       "      <td>0.009911</td>\n",
       "      <td>-0.006770</td>\n",
       "      <td>0.025858</td>\n",
       "      <td>0.025476</td>\n",
       "      <td>1.000000</td>\n",
       "      <td>-0.035653</td>\n",
       "    </tr>\n",
       "    <tr>\n",
       "      <th>cardio</th>\n",
       "      <td>0.238159</td>\n",
       "      <td>0.008109</td>\n",
       "      <td>-0.010821</td>\n",
       "      <td>0.181660</td>\n",
       "      <td>0.054475</td>\n",
       "      <td>0.065719</td>\n",
       "      <td>0.221147</td>\n",
       "      <td>0.089307</td>\n",
       "      <td>-0.015486</td>\n",
       "      <td>-0.007330</td>\n",
       "      <td>-0.035653</td>\n",
       "      <td>1.000000</td>\n",
       "    </tr>\n",
       "  </tbody>\n",
       "</table>\n",
       "</div>"
      ],
      "text/plain": [
       "                  age    gender    height    weight     ap_hi     ap_lo  \\\n",
       "age          1.000000 -0.022811 -0.081515  0.053684  0.020764  0.017647   \n",
       "gender      -0.022811  1.000000  0.499033  0.155406  0.006005  0.015254   \n",
       "height      -0.081515  0.499033  1.000000  0.290968  0.005488  0.006150   \n",
       "weight       0.053684  0.155406  0.290968  1.000000  0.030702  0.043710   \n",
       "ap_hi        0.020764  0.006005  0.005488  0.030702  1.000000  0.016086   \n",
       "ap_lo        0.017647  0.015254  0.006150  0.043710  0.016086  1.000000   \n",
       "cholesterol  0.154424 -0.035821 -0.050226  0.141768  0.023778  0.024019   \n",
       "gluc         0.098703 -0.020491 -0.018595  0.106857  0.011841  0.010806   \n",
       "smoke       -0.047633  0.338135  0.187989  0.067780 -0.000922  0.005186   \n",
       "alco        -0.029723  0.170966  0.094419  0.067113  0.001408  0.010601   \n",
       "active      -0.009927  0.005866 -0.006570 -0.016867 -0.000033  0.004780   \n",
       "cardio       0.238159  0.008109 -0.010821  0.181660  0.054475  0.065719   \n",
       "\n",
       "             cholesterol      gluc     smoke      alco    active    cardio  \n",
       "age             0.154424  0.098703 -0.047633 -0.029723 -0.009927  0.238159  \n",
       "gender         -0.035821 -0.020491  0.338135  0.170966  0.005866  0.008109  \n",
       "height         -0.050226 -0.018595  0.187989  0.094419 -0.006570 -0.010821  \n",
       "weight          0.141768  0.106857  0.067780  0.067113 -0.016867  0.181660  \n",
       "ap_hi           0.023778  0.011841 -0.000922  0.001408 -0.000033  0.054475  \n",
       "ap_lo           0.024019  0.010806  0.005186  0.010601  0.004780  0.065719  \n",
       "cholesterol     1.000000  0.451578  0.010354  0.035760  0.009911  0.221147  \n",
       "gluc            0.451578  1.000000 -0.004756  0.011246 -0.006770  0.089307  \n",
       "smoke           0.010354 -0.004756  1.000000  0.340094  0.025858 -0.015486  \n",
       "alco            0.035760  0.011246  0.340094  1.000000  0.025476 -0.007330  \n",
       "active          0.009911 -0.006770  0.025858  0.025476  1.000000 -0.035653  \n",
       "cardio          0.221147  0.089307 -0.015486 -0.007330 -0.035653  1.000000  "
      ]
     },
     "execution_count": 10,
     "metadata": {},
     "output_type": "execute_result"
    }
   ],
   "source": [
    "dataset.corr() # Pearson Correlation Coefficients"
   ]
  },
  {
   "cell_type": "code",
   "execution_count": 11,
   "id": "essential-medicare",
   "metadata": {},
   "outputs": [
    {
     "data": {
      "text/plain": [
       "array([[1., 1., 1., 1., 1., 1., 1., 1., 1., 1., 1., 1.],\n",
       "       [0., 1., 1., 1., 1., 1., 1., 1., 1., 1., 1., 1.],\n",
       "       [0., 0., 1., 1., 1., 1., 1., 1., 1., 1., 1., 1.],\n",
       "       [0., 0., 0., 1., 1., 1., 1., 1., 1., 1., 1., 1.],\n",
       "       [0., 0., 0., 0., 1., 1., 1., 1., 1., 1., 1., 1.],\n",
       "       [0., 0., 0., 0., 0., 1., 1., 1., 1., 1., 1., 1.],\n",
       "       [0., 0., 0., 0., 0., 0., 1., 1., 1., 1., 1., 1.],\n",
       "       [0., 0., 0., 0., 0., 0., 0., 1., 1., 1., 1., 1.],\n",
       "       [0., 0., 0., 0., 0., 0., 0., 0., 1., 1., 1., 1.],\n",
       "       [0., 0., 0., 0., 0., 0., 0., 0., 0., 1., 1., 1.],\n",
       "       [0., 0., 0., 0., 0., 0., 0., 0., 0., 0., 1., 1.],\n",
       "       [0., 0., 0., 0., 0., 0., 0., 0., 0., 0., 0., 1.]])"
      ]
     },
     "execution_count": 11,
     "metadata": {},
     "output_type": "execute_result"
    }
   ],
   "source": [
    "mask = np.zeros_like(dataset.corr())\n",
    "triangle_indices = np.triu_indices_from(mask)\n",
    "mask[triangle_indices] = True\n",
    "mask"
   ]
  },
  {
   "cell_type": "code",
   "execution_count": 12,
   "id": "frank-customs",
   "metadata": {},
   "outputs": [
    {
     "data": {
      "image/png": "[encoded data removed]",
      "text/plain": [
       "<Figure size 1152x720 with 2 Axes>"
      ]
     },
     "metadata": {},
     "output_type": "display_data"
    }
   ],
   "source": [
    "plt.figure(figsize=(16,10))\n",
    "sns.heatmap(dataset.corr(), annot=True, mask=mask, annot_kws={\"size\": 10})\n",
    "plt.xticks(fontsize=14)\n",
    "plt.yticks(fontsize=14)\n",
    "plt.show()"
   ]
  },
  {
   "cell_type": "code",
   "execution_count": 83,
   "id": "lightweight-validity",
   "metadata": {},
   "outputs": [],
   "source": [
    "#%%time\n",
    "#sns.pairplot(dataset, hue = 'cardio')"
   ]
  },
  {
   "cell_type": "markdown",
   "id": "intermediate-ghana",
   "metadata": {},
   "source": [
    "## BUILD AND TRAIN AN ARTIFICIAL NEURAL NETWORK MODEL"
   ]
  },
  {
   "cell_type": "code",
   "execution_count": 14,
   "id": "unable-lucas",
   "metadata": {},
   "outputs": [],
   "source": [
    "# split the dataframe into target and features\n",
    "y = dataset['cardio']\n",
    "X = dataset.drop(columns = ['cardio'])"
   ]
  },
  {
   "cell_type": "code",
   "execution_count": 15,
   "id": "fixed-slovak",
   "metadata": {},
   "outputs": [],
   "source": [
    "# Feature Scaling is a must in ANN\n",
    "sc = StandardScaler()\n",
    "X = sc.fit_transform(X)"
   ]
  },
  {
   "cell_type": "code",
   "execution_count": 16,
   "id": "particular-trader",
   "metadata": {},
   "outputs": [],
   "source": [
    "#spliting the data in to test and train sets\n",
    "X_train, X_test, y_train, y_test = train_test_split(X, y, test_size = 0.2)"
   ]
  },
  {
   "cell_type": "code",
   "execution_count": 17,
   "id": "convinced-divide",
   "metadata": {},
   "outputs": [
    {
     "data": {
      "text/plain": [
       "0.8"
      ]
     },
     "execution_count": 17,
     "metadata": {},
     "output_type": "execute_result"
    }
   ],
   "source": [
    "# % of training set\n",
    "len(X_train)/len(X)"
   ]
  },
  {
   "cell_type": "code",
   "execution_count": 18,
   "id": "searching-strength",
   "metadata": {},
   "outputs": [
    {
     "data": {
      "text/plain": [
       "0.2"
      ]
     },
     "execution_count": 18,
     "metadata": {},
     "output_type": "execute_result"
    }
   ],
   "source": [
    "# % of test data set\n",
    "X_test.shape[0]/X.shape[0]"
   ]
  },
  {
   "cell_type": "code",
   "execution_count": 19,
   "id": "perfect-reservoir",
   "metadata": {},
   "outputs": [],
   "source": [
    "classifier = tf.keras.models.Sequential() #classifier\n",
    "classifier.add(tf.keras.layers.Dense(units=400, activation='relu', input_shape=(11, ))) #dense layer\n",
    "classifier.add(tf.keras.layers.Dropout(0.2)) # dropout layer to prevent overfitting\n",
    "\n",
    "classifier.add(tf.keras.layers.Dense(units=400, activation='relu')) # hidden layer\n",
    "classifier.add(tf.keras.layers.Dense(units=400, activation='relu')) # hidden layer\n",
    "\n",
    "classifier.add(tf.keras.layers.Dense(units=1, activation='sigmoid')) # single output layer"
   ]
  },
  {
   "cell_type": "code",
   "execution_count": 20,
   "id": "alien-danger",
   "metadata": {},
   "outputs": [
    {
     "name": "stdout",
     "output_type": "stream",
     "text": [
      "Model: \"sequential\"\n",
      "_________________________________________________________________\n",
      "Layer (type)                 Output Shape              Param #   \n",
      "=================================================================\n",
      "dense (Dense)                (None, 400)               4800      \n",
      "_________________________________________________________________\n",
      "dropout (Dropout)            (None, 400)               0         \n",
      "_________________________________________________________________\n",
      "dense_1 (Dense)              (None, 400)               160400    \n",
      "_________________________________________________________________\n",
      "dense_2 (Dense)              (None, 400)               160400    \n",
      "_________________________________________________________________\n",
      "dense_3 (Dense)              (None, 1)                 401       \n",
      "=================================================================\n",
      "Total params: 326,001\n",
      "Trainable params: 326,001\n",
      "Non-trainable params: 0\n",
      "_________________________________________________________________\n"
     ]
    }
   ],
   "source": [
    "classifier.summary()"
   ]
  },
  {
   "cell_type": "code",
   "execution_count": 21,
   "id": "abandoned-christopher",
   "metadata": {},
   "outputs": [],
   "source": [
    "classifier.compile(optimizer='Adam', loss='binary_crossentropy', metrics = ['accuracy'])"
   ]
  },
  {
   "cell_type": "code",
   "execution_count": 22,
   "id": "unknown-madrid",
   "metadata": {},
   "outputs": [
    {
     "name": "stdout",
     "output_type": "stream",
     "text": [
      "Epoch 1/100\n",
      "1750/1750 [==============================] - 7s 4ms/step - loss: 0.5810 - accuracy: 0.7121\n",
      "Epoch 2/100\n",
      "1750/1750 [==============================] - 7s 4ms/step - loss: 0.5531 - accuracy: 0.7304\n",
      "Epoch 3/100\n",
      "1750/1750 [==============================] - 8s 4ms/step - loss: 0.5484 - accuracy: 0.7315\n",
      "Epoch 4/100\n",
      "1750/1750 [==============================] - 7s 4ms/step - loss: 0.5456 - accuracy: 0.7321\n",
      "Epoch 5/100\n",
      "1750/1750 [==============================] - 7s 4ms/step - loss: 0.5445 - accuracy: 0.7334\n",
      "Epoch 6/100\n",
      "1750/1750 [==============================] - 7s 4ms/step - loss: 0.5437 - accuracy: 0.7346\n",
      "Epoch 7/100\n",
      "1750/1750 [==============================] - 7s 4ms/step - loss: 0.5427 - accuracy: 0.7339: \n",
      "Epoch 8/100\n",
      "1750/1750 [==============================] - 7s 4ms/step - loss: 0.5419 - accuracy: 0.7342\n",
      "Epoch 9/100\n",
      "1750/1750 [==============================] - 7s 4ms/step - loss: 0.5419 - accuracy: 0.7333\n",
      "Epoch 10/100\n",
      "1750/1750 [==============================] - 7s 4ms/step - loss: 0.5411 - accuracy: 0.7343\n",
      "Epoch 11/100\n",
      "1750/1750 [==============================] - 7s 4ms/step - loss: 0.5402 - accuracy: 0.7371: 0s - los\n",
      "Epoch 12/100\n",
      "1750/1750 [==============================] - 7s 4ms/step - loss: 0.5404 - accuracy: 0.7367\n",
      "Epoch 13/100\n",
      "1750/1750 [==============================] - 7s 4ms/step - loss: 0.5398 - accuracy: 0.7358\n",
      "Epoch 14/100\n",
      "1750/1750 [==============================] - 7s 4ms/step - loss: 0.5394 - accuracy: 0.7356\n",
      "Epoch 15/100\n",
      "1750/1750 [==============================] - 7s 4ms/step - loss: 0.5378 - accuracy: 0.7366\n",
      "Epoch 16/100\n",
      "1750/1750 [==============================] - 7s 4ms/step - loss: 0.5382 - accuracy: 0.7357\n",
      "Epoch 17/100\n",
      "1750/1750 [==============================] - 7s 4ms/step - loss: 0.5373 - accuracy: 0.7373\n",
      "Epoch 18/100\n",
      "1750/1750 [==============================] - 7s 4ms/step - loss: 0.5371 - accuracy: 0.7376\n",
      "Epoch 19/100\n",
      "1750/1750 [==============================] - 7s 4ms/step - loss: 0.5367 - accuracy: 0.7384\n",
      "Epoch 20/100\n",
      "1750/1750 [==============================] - 8s 4ms/step - loss: 0.5360 - accuracy: 0.7379\n",
      "Epoch 21/100\n",
      "1750/1750 [==============================] - 7s 4ms/step - loss: 0.5359 - accuracy: 0.7384\n",
      "Epoch 22/100\n",
      "1750/1750 [==============================] - 7s 4ms/step - loss: 0.5355 - accuracy: 0.7388\n",
      "Epoch 23/100\n",
      "1750/1750 [==============================] - 7s 4ms/step - loss: 0.5346 - accuracy: 0.7383\n",
      "Epoch 24/100\n",
      "1750/1750 [==============================] - 7s 4ms/step - loss: 0.5355 - accuracy: 0.7384\n",
      "Epoch 25/100\n",
      "1750/1750 [==============================] - 7s 4ms/step - loss: 0.5333 - accuracy: 0.7403\n",
      "Epoch 26/100\n",
      "1750/1750 [==============================] - 7s 4ms/step - loss: 0.5325 - accuracy: 0.7392\n",
      "Epoch 27/100\n",
      "1750/1750 [==============================] - 7s 4ms/step - loss: 0.5332 - accuracy: 0.7390: 0s - loss: 0.5328 - accura\n",
      "Epoch 28/100\n",
      "1750/1750 [==============================] - 8s 4ms/step - loss: 0.5326 - accuracy: 0.7399\n",
      "Epoch 29/100\n",
      "1750/1750 [==============================] - 7s 4ms/step - loss: 0.5317 - accuracy: 0.7409\n",
      "Epoch 30/100\n",
      "1750/1750 [==============================] - 7s 4ms/step - loss: 0.5311 - accuracy: 0.7408: 0s - loss: 0.5312 \n",
      "Epoch 31/100\n",
      "1750/1750 [==============================] - 7s 4ms/step - loss: 0.5308 - accuracy: 0.7417\n",
      "Epoch 32/100\n",
      "1750/1750 [==============================] - 7s 4ms/step - loss: 0.5300 - accuracy: 0.7413\n",
      "Epoch 33/100\n",
      "1750/1750 [==============================] - 7s 4ms/step - loss: 0.5296 - accuracy: 0.7415\n",
      "Epoch 34/100\n",
      "1750/1750 [==============================] - 7s 4ms/step - loss: 0.5290 - accuracy: 0.7411\n",
      "Epoch 35/100\n",
      "1750/1750 [==============================] - 8s 4ms/step - loss: 0.5280 - accuracy: 0.7422\n",
      "Epoch 36/100\n",
      "1750/1750 [==============================] - 8s 5ms/step - loss: 0.5273 - accuracy: 0.7438\n",
      "Epoch 37/100\n",
      "1750/1750 [==============================] - 8s 5ms/step - loss: 0.5273 - accuracy: 0.7428\n",
      "Epoch 38/100\n",
      "1750/1750 [==============================] - 8s 4ms/step - loss: 0.5266 - accuracy: 0.7425\n",
      "Epoch 39/100\n",
      "1750/1750 [==============================] - 8s 4ms/step - loss: 0.5264 - accuracy: 0.7439\n",
      "Epoch 40/100\n",
      "1750/1750 [==============================] - 8s 4ms/step - loss: 0.5258 - accuracy: 0.7434\n",
      "Epoch 41/100\n",
      "1750/1750 [==============================] - 8s 4ms/step - loss: 0.5244 - accuracy: 0.7439\n",
      "Epoch 42/100\n",
      "1750/1750 [==============================] - 8s 4ms/step - loss: 0.5248 - accuracy: 0.7440\n",
      "Epoch 43/100\n",
      "1750/1750 [==============================] - 8s 4ms/step - loss: 0.5236 - accuracy: 0.7440\n",
      "Epoch 44/100\n",
      "1750/1750 [==============================] - 8s 5ms/step - loss: 0.5233 - accuracy: 0.7451\n",
      "Epoch 45/100\n",
      "1750/1750 [==============================] - 8s 4ms/step - loss: 0.5229 - accuracy: 0.7450\n",
      "Epoch 46/100\n",
      "1750/1750 [==============================] - 8s 4ms/step - loss: 0.5213 - accuracy: 0.7454\n",
      "Epoch 47/100\n",
      "1750/1750 [==============================] - 9s 5ms/step - loss: 0.5231 - accuracy: 0.7462\n",
      "Epoch 48/100\n",
      "1750/1750 [==============================] - 8s 4ms/step - loss: 0.5209 - accuracy: 0.7469\n",
      "Epoch 49/100\n",
      "1750/1750 [==============================] - 8s 4ms/step - loss: 0.5209 - accuracy: 0.7470\n",
      "Epoch 50/100\n",
      "1750/1750 [==============================] - 8s 5ms/step - loss: 0.5196 - accuracy: 0.7476\n",
      "Epoch 51/100\n",
      "1750/1750 [==============================] - 7s 4ms/step - loss: 0.5185 - accuracy: 0.7472\n",
      "Epoch 52/100\n",
      "1750/1750 [==============================] - 8s 4ms/step - loss: 0.5188 - accuracy: 0.7481\n",
      "Epoch 53/100\n",
      "1750/1750 [==============================] - 7s 4ms/step - loss: 0.5188 - accuracy: 0.7473\n",
      "Epoch 54/100\n",
      "1750/1750 [==============================] - 7s 4ms/step - loss: 0.5176 - accuracy: 0.7479\n",
      "Epoch 55/100\n",
      "1750/1750 [==============================] - 7s 4ms/step - loss: 0.5191 - accuracy: 0.7481\n",
      "Epoch 56/100\n",
      "1750/1750 [==============================] - 7s 4ms/step - loss: 0.5171 - accuracy: 0.7480\n",
      "Epoch 57/100\n",
      "1750/1750 [==============================] - 7s 4ms/step - loss: 0.5158 - accuracy: 0.7490\n",
      "Epoch 58/100\n",
      "1750/1750 [==============================] - 7s 4ms/step - loss: 0.5145 - accuracy: 0.7501\n",
      "Epoch 59/100\n",
      "1750/1750 [==============================] - 7s 4ms/step - loss: 0.5148 - accuracy: 0.7499\n",
      "Epoch 60/100\n",
      "1750/1750 [==============================] - 8s 4ms/step - loss: 0.5142 - accuracy: 0.7497\n",
      "Epoch 61/100\n",
      "1750/1750 [==============================] - 7s 4ms/step - loss: 0.5136 - accuracy: 0.7493\n",
      "Epoch 62/100\n",
      "1750/1750 [==============================] - 7s 4ms/step - loss: 0.5123 - accuracy: 0.7514\n",
      "Epoch 63/100\n",
      "1750/1750 [==============================] - 7s 4ms/step - loss: 0.5138 - accuracy: 0.7496\n",
      "Epoch 64/100\n",
      "1750/1750 [==============================] - 7s 4ms/step - loss: 0.5156 - accuracy: 0.7502\n",
      "Epoch 65/100\n",
      "1750/1750 [==============================] - 7s 4ms/step - loss: 0.5108 - accuracy: 0.7516\n",
      "Epoch 66/100\n",
      "1750/1750 [==============================] - 7s 4ms/step - loss: 0.5114 - accuracy: 0.7509\n",
      "Epoch 67/100\n",
      "1750/1750 [==============================] - 7s 4ms/step - loss: 0.5106 - accuracy: 0.7514\n",
      "Epoch 68/100\n",
      "1750/1750 [==============================] - 8s 4ms/step - loss: 0.5096 - accuracy: 0.7524\n",
      "Epoch 69/100\n",
      "1750/1750 [==============================] - 7s 4ms/step - loss: 0.5088 - accuracy: 0.7520\n",
      "Epoch 70/100\n",
      "1750/1750 [==============================] - 7s 4ms/step - loss: 0.5089 - accuracy: 0.7531\n",
      "Epoch 71/100\n",
      "1750/1750 [==============================] - 7s 4ms/step - loss: 0.5076 - accuracy: 0.7534\n",
      "Epoch 72/100\n",
      "1750/1750 [==============================] - 7s 4ms/step - loss: 0.5090 - accuracy: 0.7522\n",
      "Epoch 73/100\n",
      "1750/1750 [==============================] - 7s 4ms/step - loss: 0.5092 - accuracy: 0.7527\n",
      "Epoch 74/100\n",
      "1750/1750 [==============================] - 7s 4ms/step - loss: 0.5077 - accuracy: 0.7531\n",
      "Epoch 75/100\n",
      "1750/1750 [==============================] - 7s 4ms/step - loss: 0.5057 - accuracy: 0.7540\n",
      "Epoch 76/100\n",
      "1750/1750 [==============================] - 8s 4ms/step - loss: 0.5069 - accuracy: 0.7529\n",
      "Epoch 77/100\n",
      "1750/1750 [==============================] - 8s 4ms/step - loss: 0.5055 - accuracy: 0.7534\n",
      "Epoch 78/100\n",
      "1750/1750 [==============================] - 8s 5ms/step - loss: 0.5050 - accuracy: 0.7542: 0s - loss: 0.5048 - accuracy: \n",
      "Epoch 79/100\n",
      "1750/1750 [==============================] - 7s 4ms/step - loss: 0.5050 - accuracy: 0.7549\n",
      "Epoch 80/100\n",
      "1750/1750 [==============================] - 8s 4ms/step - loss: 0.5032 - accuracy: 0.7557\n",
      "Epoch 81/100\n",
      "1750/1750 [==============================] - 8s 4ms/step - loss: 0.5027 - accuracy: 0.7553\n",
      "Epoch 82/100\n",
      "1750/1750 [==============================] - 7s 4ms/step - loss: 0.5031 - accuracy: 0.7551\n",
      "Epoch 83/100\n",
      "1750/1750 [==============================] - 7s 4ms/step - loss: 0.5045 - accuracy: 0.7550\n",
      "Epoch 84/100\n",
      "1750/1750 [==============================] - 8s 4ms/step - loss: 0.5010 - accuracy: 0.7564\n",
      "Epoch 85/100\n",
      "1750/1750 [==============================] - 8s 4ms/step - loss: 0.5012 - accuracy: 0.7571\n",
      "Epoch 86/100\n",
      "1750/1750 [==============================] - 7s 4ms/step - loss: 0.5010 - accuracy: 0.7566\n",
      "Epoch 87/100\n",
      "1750/1750 [==============================] - 7s 4ms/step - loss: 0.4993 - accuracy: 0.7572\n",
      "Epoch 88/100\n",
      "1750/1750 [==============================] - 8s 4ms/step - loss: 0.4999 - accuracy: 0.7569\n",
      "Epoch 89/100\n",
      "1750/1750 [==============================] - 7s 4ms/step - loss: 0.4991 - accuracy: 0.7564\n",
      "Epoch 90/100\n",
      "1750/1750 [==============================] - 7s 4ms/step - loss: 0.4986 - accuracy: 0.7577: 0s - loss:\n",
      "Epoch 91/100\n",
      "1750/1750 [==============================] - 8s 4ms/step - loss: 0.4990 - accuracy: 0.7576\n",
      "Epoch 92/100\n",
      "1750/1750 [==============================] - 8s 5ms/step - loss: 0.4987 - accuracy: 0.7570\n",
      "Epoch 93/100\n",
      "1750/1750 [==============================] - 8s 4ms/step - loss: 0.4985 - accuracy: 0.7570: 0s - loss: 0.4979 \n",
      "Epoch 94/100\n",
      "1750/1750 [==============================] - 7s 4ms/step - loss: 0.4980 - accuracy: 0.7574\n",
      "Epoch 95/100\n",
      "1750/1750 [==============================] - 8s 4ms/step - loss: 0.4972 - accuracy: 0.7581: 0s -\n",
      "Epoch 96/100\n",
      "1750/1750 [==============================] - 7s 4ms/step - loss: 0.4972 - accuracy: 0.7581\n",
      "Epoch 97/100\n",
      "1750/1750 [==============================] - 9s 5ms/step - loss: 0.4960 - accuracy: 0.7581\n",
      "Epoch 98/100\n",
      "1750/1750 [==============================] - 8s 4ms/step - loss: 0.4958 - accuracy: 0.7590\n",
      "Epoch 99/100\n",
      "1750/1750 [==============================] - 8s 4ms/step - loss: 0.4962 - accuracy: 0.7593\n",
      "Epoch 100/100\n",
      "1750/1750 [==============================] - 8s 4ms/step - loss: 0.4946 - accuracy: 0.7599\n"
     ]
    }
   ],
   "source": [
    "%%time\n",
    "epochs_hist = classifier.fit(X_train, y_train, epochs = 100)"
   ]
  },
  {
   "cell_type": "code",
   "execution_count": 37,
   "id": "worthy-smart",
   "metadata": {},
   "outputs": [],
   "source": [
    "y_pred = classifier.predict(X_test)"
   ]
  },
  {
   "cell_type": "code",
   "execution_count": 38,
   "id": "preceding-turtle",
   "metadata": {},
   "outputs": [
    {
     "data": {
      "text/plain": [
       "array([[0.44408023],\n",
       "       [0.24218234],\n",
       "       [0.8882972 ],\n",
       "       ...,\n",
       "       [0.21541649],\n",
       "       [0.22275203],\n",
       "       [0.41583487]], dtype=float32)"
      ]
     },
     "execution_count": 38,
     "metadata": {},
     "output_type": "execute_result"
    }
   ],
   "source": [
    "y_pred"
   ]
  },
  {
   "cell_type": "code",
   "execution_count": 39,
   "id": "female-abuse",
   "metadata": {},
   "outputs": [],
   "source": [
    "y_pred = (y_pred > 0.5)"
   ]
  },
  {
   "cell_type": "code",
   "execution_count": 40,
   "id": "comfortable-atlas",
   "metadata": {},
   "outputs": [
    {
     "data": {
      "text/plain": [
       "array([[False],\n",
       "       [False],\n",
       "       [ True],\n",
       "       ...,\n",
       "       [False],\n",
       "       [False],\n",
       "       [False]])"
      ]
     },
     "execution_count": 40,
     "metadata": {},
     "output_type": "execute_result"
    }
   ],
   "source": [
    "y_pred"
   ]
  },
  {
   "cell_type": "markdown",
   "id": "assisted-shift",
   "metadata": {},
   "source": [
    "## EVALUATE THE ARTIFICIAL NEURAL NETWORK MODEL "
   ]
  },
  {
   "cell_type": "code",
   "execution_count": 65,
   "id": "south-truth",
   "metadata": {},
   "outputs": [
    {
     "data": {
      "text/plain": [
       "dict_keys(['loss', 'accuracy'])"
      ]
     },
     "execution_count": 65,
     "metadata": {},
     "output_type": "execute_result"
    }
   ],
   "source": [
    "epochs_hist.history.keys()"
   ]
  },
  {
   "cell_type": "code",
   "execution_count": 66,
   "id": "classical-scanning",
   "metadata": {},
   "outputs": [
    {
     "data": {
      "image/png": "[encoded data removed]",
      "text/plain": [
       "<Figure size 432x288 with 1 Axes>"
      ]
     },
     "metadata": {},
     "output_type": "display_data"
    }
   ],
   "source": [
    "# training history model loss progress\n",
    "plt.plot(epochs_hist.history['loss'])\n",
    "plt.title('Model Loss Progress During Training')\n",
    "plt.xlabel('Epoch')\n",
    "plt.ylabel('Training Loss')\n",
    "plt.legend(['Training Loss'])\n",
    "plt.show()"
   ]
  },
  {
   "cell_type": "code",
   "execution_count": 67,
   "id": "racial-retro",
   "metadata": {},
   "outputs": [
    {
     "data": {
      "image/png": "[encoded data removed]",
      "text/plain": [
       "<Figure size 432x288 with 1 Axes>"
      ]
     },
     "metadata": {},
     "output_type": "display_data"
    }
   ],
   "source": [
    "# training history model accuracy progress\n",
    "plt.plot(epochs_hist.history['accuracy'])\n",
    "plt.title('Model Accuracy Progress During Training')\n",
    "plt.xlabel('Epoch')\n",
    "plt.ylabel('Training Accuracy')\n",
    "plt.legend(['Training Accuracy'])\n",
    "plt.show()"
   ]
  },
  {
   "cell_type": "code",
   "execution_count": 68,
   "id": "broad-closure",
   "metadata": {},
   "outputs": [
    {
     "data": {
      "image/png": "[encoded data removed]",
      "text/plain": [
       "<Figure size 432x288 with 2 Axes>"
      ]
     },
     "metadata": {},
     "output_type": "display_data"
    }
   ],
   "source": [
    "# Testing Set Performance\n",
    "cm = confusion_matrix(y_test, y_pred)\n",
    "sns.heatmap(cm, annot=True, fmt=\".1f\")\n",
    "plt.title('Confusion Matrix For ANN Testing Set')\n",
    "plt.show()"
   ]
  },
  {
   "cell_type": "code",
   "execution_count": 45,
   "id": "upper-richardson",
   "metadata": {},
   "outputs": [
    {
     "name": "stdout",
     "output_type": "stream",
     "text": [
      "              precision    recall  f1-score   support\n",
      "\n",
      "           0       0.71      0.76      0.73      7031\n",
      "           1       0.74      0.68      0.71      6969\n",
      "\n",
      "    accuracy                           0.72     14000\n",
      "   macro avg       0.72      0.72      0.72     14000\n",
      "weighted avg       0.72      0.72      0.72     14000\n",
      "\n"
     ]
    }
   ],
   "source": [
    "print(classification_report(y_test, y_pred))"
   ]
  },
  {
   "cell_type": "markdown",
   "id": "informed-russell",
   "metadata": {},
   "source": [
    "## BUILD AND TRAIN AN XGBOOST CLASSIFIER MODEL"
   ]
  },
  {
   "cell_type": "code",
   "execution_count": 64,
   "id": "organic-chase",
   "metadata": {},
   "outputs": [
    {
     "name": "stdout",
     "output_type": "stream",
     "text": [
      "[18:54:14] WARNING: C:/Users/Administrator/workspace/xgboost-win64_release_1.3.0/src/learner.cc:1061: Starting in XGBoost 1.3.0, the default evaluation metric used with the objective 'binary:logistic' was changed from 'error' to 'logloss'. Explicitly set eval_metric if you'd like to restore the old behavior.\n"
     ]
    },
    {
     "data": {
      "text/plain": [
       "XGBClassifier(base_score=0.5, booster='gbtree', colsample_bylevel=1,\n",
       "              colsample_bynode=1, colsample_bytree=1, gamma=0, gpu_id=-1,\n",
       "              importance_type='gain', interaction_constraints='',\n",
       "              learning_rate=0.300000012, max_delta_step=0, max_depth=6,\n",
       "              min_child_weight=1, missing=nan, monotone_constraints='()',\n",
       "              n_estimators=100, n_jobs=4, num_parallel_tree=1,\n",
       "              objective='binary:logistic', random_state=0, reg_alpha=0,\n",
       "              reg_lambda=1, scale_pos_weight=1, subsample=1,\n",
       "              tree_method='exact', use_label_encoder=True,\n",
       "              validate_parameters=1, verbosity=None)"
      ]
     },
     "execution_count": 64,
     "metadata": {},
     "output_type": "execute_result"
    }
   ],
   "source": [
    "model = XGBClassifier()\n",
    "model.fit(X_train, y_train)"
   ]
  },
  {
   "cell_type": "code",
   "execution_count": 47,
   "id": "present-bargain",
   "metadata": {},
   "outputs": [],
   "source": [
    "# make predictions on test data\n",
    "predict = model.predict(X_test)"
   ]
  },
  {
   "cell_type": "code",
   "execution_count": 48,
   "id": "resident-interpretation",
   "metadata": {},
   "outputs": [
    {
     "data": {
      "text/plain": [
       "array([1, 0, 1, ..., 0, 0, 1], dtype=int64)"
      ]
     },
     "execution_count": 48,
     "metadata": {},
     "output_type": "execute_result"
    }
   ],
   "source": [
    "predict"
   ]
  },
  {
   "cell_type": "code",
   "execution_count": 50,
   "id": "vanilla-merit",
   "metadata": {
    "scrolled": true
   },
   "outputs": [
    {
     "data": {
      "image/png": "[encoded data removed]",
      "text/plain": [
       "<Figure size 432x288 with 2 Axes>"
      ]
     },
     "metadata": {},
     "output_type": "display_data"
    }
   ],
   "source": [
    "# plot the confusion matrix\n",
    "cm = confusion_matrix(y_test, predict)\n",
    "sns.heatmap(cm, annot=True, fmt=\".1f\")\n",
    "plt.title('Confusion Matrix For XGBClassifier')\n",
    "plt.show()"
   ]
  },
  {
   "cell_type": "code",
   "execution_count": 49,
   "id": "alpha-translator",
   "metadata": {},
   "outputs": [
    {
     "name": "stdout",
     "output_type": "stream",
     "text": [
      "              precision    recall  f1-score   support\n",
      "\n",
      "           0       0.71      0.77      0.74      7031\n",
      "           1       0.75      0.68      0.72      6969\n",
      "\n",
      "    accuracy                           0.73     14000\n",
      "   macro avg       0.73      0.73      0.73     14000\n",
      "weighted avg       0.73      0.73      0.73     14000\n",
      "\n"
     ]
    }
   ],
   "source": [
    "print(classification_report(y_test, predict))"
   ]
  },
  {
   "cell_type": "code",
   "execution_count": null,
   "id": "natural-exposure",
   "metadata": {},
   "outputs": [],
   "source": []
  },
  {
   "cell_type": "code",
   "execution_count": null,
   "id": "unable-jimmy",
   "metadata": {},
   "outputs": [],
   "source": []
  }
 ],
 "metadata": {
  "kernelspec": {
   "display_name": "Python 3",
   "language": "python",
   "name": "python3"
  },
  "language_info": {
   "codemirror_mode": {
    "name": "ipython",
    "version": 3
   },
   "file_extension": ".py",
   "mimetype": "text/x-python",
   "name": "python",
   "nbconvert_exporter": "python",
   "pygments_lexer": "ipython3",
   "version": "3.8.8"
  }
 },
 "nbformat": 4,
 "nbformat_minor": 5
}
